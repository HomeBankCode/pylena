{
 "cells": [
  {
   "cell_type": "code",
   "execution_count": 1,
   "metadata": {
    "collapsed": true
   },
   "outputs": [],
   "source": [
    "import pylena"
   ]
  },
  {
   "cell_type": "markdown",
   "metadata": {},
   "source": [
    "# available objects:\n",
    "- **LenaFile**  (the whole lena5min.csv file)\n",
    "- **LenaRange** (a range within that whole LenaFile)\n",
    "- **LenaRow**   (a single row within that csv file)"
   ]
  },
  {
   "cell_type": "markdown",
   "metadata": {},
   "source": [
    "# class LenaFile\n",
    "\n",
    "the **LenaFile** class is the main top level class you'll be working with. To create a LenaFile object, pass it a path to a lena5min.csv file. For example:"
   ]
  },
  {
   "cell_type": "code",
   "execution_count": 2,
   "metadata": {
    "collapsed": false
   },
   "outputs": [],
   "source": [
    "lena_file = pylena.LenaFile(\"93_07_lena5min.csv\")"
   ]
  },
  {
   "cell_type": "markdown",
   "metadata": {},
   "source": [
    "each LenaFile has some global fields as members, for example:"
   ]
  },
  {
   "cell_type": "code",
   "execution_count": 3,
   "metadata": {
    "collapsed": false
   },
   "outputs": [
    {
     "name": "stdout",
     "output_type": "stream",
     "text": [
      "child_key:   46934939900000E7A\n",
      "birth_date:  2014-05-29\n",
      "age:         7m; 14d\n",
      "sex:         M\n"
     ]
    }
   ],
   "source": [
    "print \"child_key:   \" + lena_file.child_key\n",
    "print \"birth_date:  \" + lena_file.birth_date\n",
    "print \"age:         \" + lena_file.age \n",
    "print \"sex:         \" + lena_file.sex"
   ]
  },
  {
   "cell_type": "markdown",
   "metadata": {},
   "source": [
    "# LenaFile.get_range(begin=0, end=0)\n",
    "\n",
    "this returns a **LenaRange** object, which represents a range of rows (from \"begin\" to \"end\") within a lena5min csv file. The begin and end refer to the indices of the rows within the csv file. "
   ]
  },
  {
   "cell_type": "code",
   "execution_count": 4,
   "metadata": {
    "collapsed": false
   },
   "outputs": [],
   "source": [
    "rows_1_to_7 = lena_file.get_range(begin=1, end=7) # from rows 1 to 7 (does not include row 7)"
   ]
  },
  {
   "cell_type": "markdown",
   "metadata": {},
   "source": [
    "# class LenaRange\n",
    "\n",
    "in the previous example, the result (variable rows_1_to_7) was a **LenaRange** object. A LenaRange as a bunch of different methods available to it. Most of them mirroring the methods of the same name belonging to a LenaFile. "
   ]
  },
  {
   "cell_type": "markdown",
   "metadata": {},
   "source": [
    "# LenaRange.sum(*keys)\n",
    "\n",
    "The sum() function returns the sum of all the values corresponding to the given key. In the example below, we're getting the sum of all the \"CTC\" values in the LenaRange.\n",
    "\n",
    "possible key values:\n",
    " - \"ctc\"\n",
    " - \"cvc\"\n",
    " - \"awc\"\n",
    " \n",
    " \n",
    "## single key\n",
    "\n",
    "providing a single key will calculate the sum accross that range for that single key, for example:\n",
    " "
   ]
  },
  {
   "cell_type": "code",
   "execution_count": 5,
   "metadata": {
    "collapsed": false
   },
   "outputs": [
    {
     "name": "stdout",
     "output_type": "stream",
     "text": [
      "22\n"
     ]
    }
   ],
   "source": [
    "print rows_1_to_7.sum(\"ctc\")"
   ]
  },
  {
   "cell_type": "markdown",
   "metadata": {},
   "source": [
    "## multiple keys\n",
    "\n",
    "providing multiple keys will calculate the combined sum across that LenaRange for all the keys provided, for example:"
   ]
  },
  {
   "cell_type": "code",
   "execution_count": 6,
   "metadata": {
    "collapsed": false
   },
   "outputs": [
    {
     "name": "stdout",
     "output_type": "stream",
     "text": [
      "76\n"
     ]
    }
   ],
   "source": [
    "print rows_1_to_7.sum(\"ctc\", \"cvc\")"
   ]
  },
  {
   "cell_type": "markdown",
   "metadata": {},
   "source": [
    "# LenaRange.total_time(begin=0, end=None)\n",
    "\n",
    "The total_time() method returns the total duration of that LenaRange, calculated by summing all the \"duration\" fields. Most of the rows should be exactly 5 minutes, but sometimes (usually at the beginning) they aren't. If you call total_time() with no arguments, you'll get the total time of the entire range. If you provide begin and end arguments, it'll give you the duration of that subrange. The begin and end refer to the indices of the rows."
   ]
  },
  {
   "cell_type": "code",
   "execution_count": 7,
   "metadata": {
    "collapsed": false
   },
   "outputs": [
    {
     "name": "stdout",
     "output_type": "stream",
     "text": [
      "0:30:00\n"
     ]
    }
   ],
   "source": [
    "print rows_1_to_7.total_time()"
   ]
  },
  {
   "cell_type": "code",
   "execution_count": 8,
   "metadata": {
    "collapsed": false
   },
   "outputs": [
    {
     "name": "stdout",
     "output_type": "stream",
     "text": [
      "0:15:00\n"
     ]
    }
   ],
   "source": [
    "print rows_1_to_7.total_time(begin=2, end=5) # from rows 2 to 5 (does not include row 5)"
   ]
  },
  {
   "cell_type": "markdown",
   "metadata": {},
   "source": [
    "# LenaFile.total_time(begin=0, end=None)\n",
    "\n",
    "the total_time method is also available for the LenaFile object. Its behavior is the same in regards to arguments. For example:\n"
   ]
  },
  {
   "cell_type": "code",
   "execution_count": 9,
   "metadata": {
    "collapsed": false
   },
   "outputs": [
    {
     "name": "stdout",
     "output_type": "stream",
     "text": [
      "15:17:14\n"
     ]
    }
   ],
   "source": [
    "print lena_file.total_time()"
   ]
  },
  {
   "cell_type": "code",
   "execution_count": 10,
   "metadata": {
    "collapsed": false
   },
   "outputs": [
    {
     "name": "stdout",
     "output_type": "stream",
     "text": [
      "1:47:14\n"
     ]
    }
   ],
   "source": [
    "print lena_file.total_time(begin=0, end=22) # from rows 0 to 22 (does not include row 22)"
   ]
  },
  {
   "cell_type": "markdown",
   "metadata": {},
   "source": [
    "# LenaFile.sum(*keys)\n",
    "\n",
    "The sum() method on a LenaFile behaves the same way as the sum() method on a LenaRange, except the \"range\" is the entire file, not just a subsample."
   ]
  },
  {
   "cell_type": "markdown",
   "metadata": {},
   "source": [
    "# LenaRange.range\n",
    "\n",
    "you can access the underlying list of **LenaRow**s by refering to the .range member of the LenaRange object. In the example below, we print the list of LenaRows:"
   ]
  },
  {
   "cell_type": "code",
   "execution_count": 11,
   "metadata": {
    "collapsed": false
   },
   "outputs": [
    {
     "name": "stdout",
     "output_type": "stream",
     "text": [
      "[<pylena.elements.LenaRow object at 0x10488b450>, <pylena.elements.LenaRow object at 0x10488b4d0>, <pylena.elements.LenaRow object at 0x10488b550>, <pylena.elements.LenaRow object at 0x10488b5d0>, <pylena.elements.LenaRow object at 0x10488b650>, <pylena.elements.LenaRow object at 0x10488b6d0>]\n"
     ]
    }
   ],
   "source": [
    "print rows_1_to_7.range\n"
   ]
  },
  {
   "cell_type": "markdown",
   "metadata": {},
   "source": [
    "# class LenaRow\n",
    "\n",
    "Each element in a LenaRange is a **LenaRow** (a single row in the lena5min.csv). A LenaRow is the smallest unit of subdivision of a lena5min.csv file. Each LenaRow has a bunch of attributes. In the example below, we loop through the range and print each LenaRow's timestamp:"
   ]
  },
  {
   "cell_type": "code",
   "execution_count": 12,
   "metadata": {
    "collapsed": false
   },
   "outputs": [
    {
     "name": "stdout",
     "output_type": "stream",
     "text": [
      "2015-01-12 08:45\n",
      "2015-01-12 08:50\n",
      "2015-01-12 08:55\n",
      "2015-01-12 09:00\n",
      "2015-01-12 09:05\n",
      "2015-01-12 09:10\n"
     ]
    }
   ],
   "source": [
    "for element in rows_1_to_7.range:\n",
    "    print element.timestamp"
   ]
  },
  {
   "cell_type": "markdown",
   "metadata": {},
   "source": [
    "In this next example we do the same thing, except printing the awc_actual value of each row:"
   ]
  },
  {
   "cell_type": "code",
   "execution_count": 13,
   "metadata": {
    "collapsed": false
   },
   "outputs": [
    {
     "name": "stdout",
     "output_type": "stream",
     "text": [
      "106\n",
      "82\n",
      "104\n",
      "106\n",
      "236\n",
      "214\n"
     ]
    }
   ],
   "source": [
    "for element in rows_1_to_7.range:\n",
    "    print element.awc_actual"
   ]
  },
  {
   "cell_type": "markdown",
   "metadata": {},
   "source": [
    "# all the attributes of LenaRow\n",
    "\n",
    "Here we're selecting the first element in the \n",
    "```python \n",
    "rows_1_to_7.range\n",
    "``` \n",
    "list, and printing out a dictionary of all it's attributes. All of these fields are available to you. "
   ]
  },
  {
   "cell_type": "code",
   "execution_count": 14,
   "metadata": {
    "collapsed": false
   },
   "outputs": [],
   "source": [
    "row_1 = rows_1_to_7.range[0]"
   ]
  },
  {
   "cell_type": "code",
   "execution_count": 15,
   "metadata": {
    "collapsed": false
   },
   "outputs": [
    {
     "name": "stdout",
     "output_type": "stream",
     "text": [
      "{  'age': '7m; 14d',\n",
      "   'ava_stdscore': 102.11,\n",
      "   'ava_stdscore_percent': 55,\n",
      "   'awc_actual': 106,\n",
      "   'birth_date': '2014-05-29',\n",
      "   'child_key': '46934939900000E7A',\n",
      "   'ctc_actual': 6,\n",
      "   'cvc_actual': 15,\n",
      "   'data_type': '5 Minute',\n",
      "   'distant': '00:00:45',\n",
      "   'dlp': '3729',\n",
      "   'duration': '00:05:00',\n",
      "   'first_name': '93',\n",
      "   'id': 'C008',\n",
      "   'last_name': '',\n",
      "   'meaningful': '00:00:54',\n",
      "   'noise': '00:00:00',\n",
      "   'processing_file': '20150113_123848_003729.its',\n",
      "   'row_index': 1,\n",
      "   'sex': 'M',\n",
      "   'silence': '00:03:16',\n",
      "   'timestamp': '2015-01-12 08:45',\n",
      "   'tv': '00:00:05',\n",
      "   'tv_percent': 2}\n"
     ]
    }
   ],
   "source": [
    "import pprint\n",
    "pp = pprint.PrettyPrinter(indent=3)\n",
    "# ^ ignore this, it's just for printing the dictionary nicely.\n",
    "\n",
    "pp.pprint(row_1.__dict__)"
   ]
  },
  {
   "cell_type": "markdown",
   "metadata": {},
   "source": [
    "^ These are all the values that are in a single LenaRow."
   ]
  },
  {
   "cell_type": "code",
   "execution_count": 16,
   "metadata": {
    "collapsed": false
   },
   "outputs": [
    {
     "name": "stdout",
     "output_type": "stream",
     "text": [
      "duration: 00:05:00\n",
      "awc_actual: 106\n",
      "birth_date: 2014-05-29\n",
      "processing_file: 20150113_123848_003729.its\n"
     ]
    }
   ],
   "source": [
    "print \"duration: \" + row_1.duration\n",
    "print \"awc_actual: \" + str(row_1.awc_actual) # have to cast int to string here\n",
    "print \"birth_date: \" + row_1.birth_date\n",
    "print \"processing_file: \" + row_1.processing_file"
   ]
  },
  {
   "cell_type": "markdown",
   "metadata": {},
   "source": [
    "# LenaFile.rank_window(window_size=0, *keys)\n",
    "\n",
    "The rank_window() function of the LenaFile object returns a ranked list of all the subsamples of size window_size. You specify which attribute you want to rank by with the \"keys\" parameter."
   ]
  },
  {
   "cell_type": "markdown",
   "metadata": {},
   "source": [
    "## single key:\n",
    "\n",
    "single key means we're ranking the average of a single value, for example the \"CTC\" value:"
   ]
  },
  {
   "cell_type": "code",
   "execution_count": 17,
   "metadata": {
    "collapsed": false
   },
   "outputs": [],
   "source": [
    "ranked_ctc = lena_file.rank_window(6, \"ctc\")"
   ]
  },
  {
   "cell_type": "markdown",
   "metadata": {
    "collapsed": true
   },
   "source": [
    "#### top 5\n",
    "\n",
    "let's print out the top 5 results:"
   ]
  },
  {
   "cell_type": "code",
   "execution_count": 18,
   "metadata": {
    "collapsed": false
   },
   "outputs": [
    {
     "name": "stdout",
     "output_type": "stream",
     "text": [
      "[(98, 20.666666666666668), (99, 19.833333333333332), (100, 16.333333333333332), (97, 15.333333333333334), (101, 14.833333333333334)]\n"
     ]
    }
   ],
   "source": [
    "print ranked_ctc[:5]"
   ]
  },
  {
   "cell_type": "markdown",
   "metadata": {},
   "source": [
    "## multiple keys:\n",
    "\n",
    "If you provide more than 1 key, then it'll be ranked as the average of those key values.\n"
   ]
  },
  {
   "cell_type": "code",
   "execution_count": 19,
   "metadata": {
    "collapsed": true
   },
   "outputs": [],
   "source": [
    "ranked_ctc_cvc = lena_file.rank_window(6, \"ctc\", \"cvc\")"
   ]
  },
  {
   "cell_type": "code",
   "execution_count": 20,
   "metadata": {
    "collapsed": false
   },
   "outputs": [
    {
     "name": "stdout",
     "output_type": "stream",
     "text": [
      "[(99, 59.833333333333336), (98, 58.0), (102, 54.666666666666664), (100, 51.833333333333336), (101, 49.166666666666664)]\n"
     ]
    }
   ],
   "source": [
    "print ranked_ctc_cvc[:5]"
   ]
  },
  {
   "cell_type": "markdown",
   "metadata": {
    "collapsed": true
   },
   "source": [
    "# LenaFile.top_rows(n=5, *keys)\n",
    "\n",
    "the top_rows() method on a LenaFile object returns the top N (default is 5) rows, ranked according to the keys provided. For example:"
   ]
  },
  {
   "cell_type": "code",
   "execution_count": 21,
   "metadata": {
    "collapsed": false
   },
   "outputs": [
    {
     "name": "stdout",
     "output_type": "stream",
     "text": [
      "[(103, 83.0), (107, 48.0), (102, 44.0), (104, 44.0), (84, 38.0), (99, 38.0)]\n"
     ]
    }
   ],
   "source": [
    "top_6_rows = lena_file.top_rows(6, \"cvc\")\n",
    "\n",
    "print top_6_rows"
   ]
  },
  {
   "cell_type": "markdown",
   "metadata": {},
   "source": [
    "The result of the top_rows() method is a list of tuples. Each tuple contains the index of the row and the value it was ranked with.\n",
    "\n",
    "To get the actual rows that these indices refer to, pass a list of indices to the get_rows() method:\n"
   ]
  },
  {
   "cell_type": "markdown",
   "metadata": {},
   "source": [
    "# LenaFile.get_rows(rows=[])"
   ]
  },
  {
   "cell_type": "code",
   "execution_count": 22,
   "metadata": {
    "collapsed": false
   },
   "outputs": [
    {
     "name": "stdout",
     "output_type": "stream",
     "text": [
      "the_indices: \n",
      "[103, 107, 102, 104, 84, 99]\n",
      "\n",
      "the top_6_LenaRows: \n",
      "[  <pylena.elements.LenaRow object at 0x1048b57d0>,\n",
      "   <pylena.elements.LenaRow object at 0x1048b59d0>,\n",
      "   <pylena.elements.LenaRow object at 0x1048b5750>,\n",
      "   <pylena.elements.LenaRow object at 0x1048b5850>,\n",
      "   <pylena.elements.LenaRow object at 0x1048ace10>,\n",
      "   <pylena.elements.LenaRow object at 0x1048b55d0>]\n",
      "\n",
      "the cvc values: \n",
      "\n",
      "83\n",
      "48\n",
      "44\n",
      "44\n",
      "38\n",
      "38\n"
     ]
    }
   ],
   "source": [
    "# this is a list comprehension. It basically says take the first \n",
    "# element of each tuple in the list and make a new list with them.\n",
    "the_indices = [element[0] for element in top_6_rows] \n",
    "\n",
    "print \"the_indices: \"\n",
    "print the_indices\n",
    "\n",
    "\n",
    "top_6_LenaRows = lena_file.get_rows(rows=the_indices)\n",
    "\n",
    "\n",
    "print \"\\nthe top_6_LenaRows: \"\n",
    "\n",
    "pp.pprint(top_6_LenaRows)\n",
    "\n",
    " \n",
    "print \"\\nthe cvc values: \\n\"\n",
    "\n",
    "for row in top_6_LenaRows:\n",
    "    print row.cvc_actual\n"
   ]
  }
 ],
 "metadata": {
  "kernelspec": {
   "display_name": "Python 2",
   "language": "python",
   "name": "python2"
  },
  "language_info": {
   "codemirror_mode": {
    "name": "ipython",
    "version": 2
   },
   "file_extension": ".py",
   "mimetype": "text/x-python",
   "name": "python",
   "nbconvert_exporter": "python",
   "pygments_lexer": "ipython2",
   "version": "2.7.12"
  }
 },
 "nbformat": 4,
 "nbformat_minor": 0
}
